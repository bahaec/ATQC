{
 "cells": [
  {
   "cell_type": "code",
   "execution_count": null,
   "id": "e58a6a4d",
   "metadata": {},
   "outputs": [],
   "source": [
    "import numpy as np\n",
    "from matplotlib import pyplot as plt\n",
    "from scipy.linalg import sqrtm, expm\n",
    "PI = np.pi"
   ]
  },
  {
   "cell_type": "markdown",
   "id": "ccc83ec3",
   "metadata": {},
   "source": [
    "# Quantum Eigenvalue Transform Simulation\n",
    "## The object of QEVT is to apply a polynomial transform on the eigenvalues of a Hermitian matrix.\n",
    "\n",
    "It works by embedding a Hermitian $H$ into a larger unitary operator, and then applying the transfom the this unitary.  \n",
    "The example shown in the paper uses the following block encoding\n",
    "$$U = \\begin{bmatrix}H & \\sqrt{I-H^2}\\\\ \\sqrt{I-H^2} & H\\end{bmatrix}$$\n",
    "This is implemented in the function block_encoding(H)"
   ]
  },
  {
   "cell_type": "code",
   "execution_count": null,
   "id": "95ef805e",
   "metadata": {},
   "outputs": [],
   "source": [
    "def block_encoding(H: np.ndarray):\n",
    "    n = len(H[0])\n",
    "    I = np.eye(n)\n",
    "    sqrt_I_minus_H2 = sqrtm(I - (H @ H))\n",
    "    \n",
    "    U = np.block([\n",
    "        [H, sqrt_I_minus_H2],\n",
    "        [sqrt_I_minus_H2, -H]\n",
    "    ])\n",
    "    \n",
    "    return U"
   ]
  },
  {
   "cell_type": "markdown",
   "id": "17cceb65",
   "metadata": {},
   "source": [
    "We also use a projector-controlled phase shift, this operatos applies a Z rotation on each eigenspace independetly, and is given by the formula $$Π_\\phi=e^{i2\\phiΠ}$$\n",
    "with $Π=\\ket0\\bra0$"
   ]
  },
  {
   "cell_type": "code",
   "execution_count": null,
   "id": "793ff34a",
   "metadata": {},
   "outputs": [],
   "source": [
    "def PI_phi(phi, n) -> np.ndarray: \n",
    "    I_n = np.eye(n)\n",
    "    Pi = np.kron(np.array([[1, 0], [0, 0]]), I_n) # Π = ∣0⟩⟨0∣, adjusted to dimension n\n",
    "    return expm(1j * 2 * phi * Pi) # exp(2iφΠ)"
   ]
  },
  {
   "cell_type": "markdown",
   "id": "d67ba143",
   "metadata": {},
   "source": [
    "We now interleave these two operators to obtain the final QEVT sequence, depending on the parity of $d$.\n",
    "    \n",
    "For even $d$ $$U_{\\vec{\\phi}}=\\prod_{k=1}^{d/2} Π_{{\\phi}_{2k-1}}U^{\\dagger}Π_{{\\phi}_{2k}}U$$  \n",
    "For odd $d$ $$U_{\\vec{\\phi}}=Π_{{\\phi}_1}U\\begin{bmatrix}\\prod_{k=1}^{(d-1)/2} Π_{{\\phi}_{2k}}U^{\\dagger}Π_{{\\phi}_{2k+1}}U\\end{bmatrix}$$  \n",
    "in both cases, this delivers a unitary of the form\n",
    "$$\\begin{bmatrix}Poly(H) & . \\\\ . & .\\end{bmatrix}$$\n",
    "Where $Poly(H)$ is the polynomial transformation of the eigenvalues of $H$"
   ]
  },
  {
   "cell_type": "code",
   "execution_count": null,
   "id": "58e3a77d",
   "metadata": {},
   "outputs": [],
   "source": [
    "def QEVT(H, phi):\n",
    "    n = len(H[0])\n",
    "    d = len(phi)\n",
    "    \n",
    "    U = block_encoding(H)\n",
    "    U_dagger = U.conj().T\n",
    "    \n",
    "    U_phi = np.eye(2 * n, dtype=complex)\n",
    "    \n",
    "    if d % 2 == 0: #first case, d even\n",
    "        k = 0\n",
    "        while k < d:\n",
    "            U_phi = U_phi @ PI_phi(phi[k],n) @ U_dagger @ PI_phi(phi[k+1],n) @ U\n",
    "            k+=2\n",
    "    else: #second case, d odd\n",
    "        U_phi = PI_phi(phi[0],n) @ U\n",
    "        k = 1\n",
    "        while k < d:\n",
    "            U_phi = U_phi @ PI_phi(phi[k],n) @ U_dagger @ PI_phi(phi[k+1],n) @ U\n",
    "            k+=2\n",
    "    \n",
    "    Poly_H = U_phi[:n, :n]\n",
    "    \n",
    "    return Poly_H"
   ]
  }
 ],
 "metadata": {
  "language_info": {
   "name": "python"
  }
 },
 "nbformat": 4,
 "nbformat_minor": 5
}
